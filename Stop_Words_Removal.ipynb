{
  "nbformat": 4,
  "nbformat_minor": 0,
  "metadata": {
    "colab": {
      "provenance": [],
      "authorship_tag": "ABX9TyO5XpucdBJEI5ug9uYQoRO2",
      "include_colab_link": true
    },
    "kernelspec": {
      "name": "python3",
      "display_name": "Python 3"
    },
    "language_info": {
      "name": "python"
    }
  },
  "cells": [
    {
      "cell_type": "markdown",
      "metadata": {
        "id": "view-in-github",
        "colab_type": "text"
      },
      "source": [
        "<a href=\"https://colab.research.google.com/github/ghassenov/NLP_Basics/blob/main/Stop_Words_Removal.ipynb\" target=\"_parent\"><img src=\"https://colab.research.google.com/assets/colab-badge.svg\" alt=\"Open In Colab\"/></a>"
      ]
    },
    {
      "cell_type": "markdown",
      "source": [
        "Stop Words Removal\n",
        "* Stop words are common words (e.g., \"the,\" \"is,\" \"and,\" \"in\") that appear frequently in text but carry little meaningful information for tasks like sentiment analysis, topic modeling, or search engines.\n",
        "\n",
        "Why Remove Stop Words?\n",
        "* Reduces Noise: Eliminates irrelevant words, improving focus on key terms\n",
        "* Speeds Up Processing: Fewer tokens = faster computation (e.g., in TF-IDF or word embeddings).\n",
        "* Enhances Accuracy: Helps models avoid overfitting to high-frequency, low-value words.\n",
        "\n",
        "\n"
      ],
      "metadata": {
        "id": "0Oo1F6D2xd0f"
      }
    },
    {
      "cell_type": "code",
      "execution_count": 11,
      "metadata": {
        "colab": {
          "base_uri": "https://localhost:8080/"
        },
        "id": "WWWtSLZSvICU",
        "outputId": "596243a8-4100-4860-a5ae-dd64930a11e3"
      },
      "outputs": [
        {
          "output_type": "stream",
          "name": "stderr",
          "text": [
            "[nltk_data] Downloading package punkt_tab to /root/nltk_data...\n",
            "[nltk_data]   Package punkt_tab is already up-to-date!\n",
            "[nltk_data] Downloading package stopwords to /root/nltk_data...\n",
            "[nltk_data]   Unzipping corpora/stopwords.zip.\n"
          ]
        },
        {
          "output_type": "execute_result",
          "data": {
            "text/plain": [
              "True"
            ]
          },
          "metadata": {},
          "execution_count": 11
        }
      ],
      "source": [
        "import nltk\n",
        "from nltk.corpus import stopwords\n",
        "from nltk.tokenize import word_tokenize\n",
        "nltk.download('punkt_tab')\n",
        "nltk.download('stopwords')"
      ]
    },
    {
      "cell_type": "code",
      "source": [
        "# sample sentence\n",
        "sentence = 'This is a sample sentence, showing off the stop words filtration'"
      ],
      "metadata": {
        "id": "BAhw237yvhbx"
      },
      "execution_count": 5,
      "outputs": []
    },
    {
      "cell_type": "code",
      "source": [
        "# Tokenizing the Sentence\n",
        "words = word_tokenize(sentence)\n",
        "words"
      ],
      "metadata": {
        "colab": {
          "base_uri": "https://localhost:8080/"
        },
        "id": "PZJQTRepvqKL",
        "outputId": "a305250a-9ab5-4aa9-8db6-49c0b1559507"
      },
      "execution_count": 6,
      "outputs": [
        {
          "output_type": "execute_result",
          "data": {
            "text/plain": [
              "['This',\n",
              " 'is',\n",
              " 'a',\n",
              " 'sample',\n",
              " 'sentence',\n",
              " ',',\n",
              " 'showing',\n",
              " 'off',\n",
              " 'the',\n",
              " 'stop',\n",
              " 'words',\n",
              " 'filtration']"
            ]
          },
          "metadata": {},
          "execution_count": 6
        }
      ]
    },
    {
      "cell_type": "code",
      "source": [
        "# Filter out stopwords\n",
        "filtered_words = [word for word in words if word.lower() not in stopwords.words('english')]\n",
        "filtered_words"
      ],
      "metadata": {
        "colab": {
          "base_uri": "https://localhost:8080/"
        },
        "id": "RGZEfsIAwBS6",
        "outputId": "239f34d3-a5a9-446a-b67d-fa975440835e"
      },
      "execution_count": 13,
      "outputs": [
        {
          "output_type": "execute_result",
          "data": {
            "text/plain": [
              "['sample', 'sentence', ',', 'showing', 'stop', 'words', 'filtration']"
            ]
          },
          "metadata": {},
          "execution_count": 13
        }
      ]
    },
    {
      "cell_type": "code",
      "source": [
        "new_sent = ' '.join(filtered_words)\n",
        "new_sent"
      ],
      "metadata": {
        "colab": {
          "base_uri": "https://localhost:8080/",
          "height": 36
        },
        "id": "szJ52yjvwRU4",
        "outputId": "3b2394e5-240b-43c1-f87d-ed8cd68f3fc8"
      },
      "execution_count": 14,
      "outputs": [
        {
          "output_type": "execute_result",
          "data": {
            "text/plain": [
              "'sample sentence , showing stop words filtration'"
            ],
            "application/vnd.google.colaboratory.intrinsic+json": {
              "type": "string"
            }
          },
          "metadata": {},
          "execution_count": 14
        }
      ]
    }
  ]
}