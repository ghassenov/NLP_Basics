{
  "nbformat": 4,
  "nbformat_minor": 0,
  "metadata": {
    "colab": {
      "provenance": [],
      "authorship_tag": "ABX9TyNm2kKaNdlClBo0geKRBsNe",
      "include_colab_link": true
    },
    "kernelspec": {
      "name": "python3",
      "display_name": "Python 3"
    },
    "language_info": {
      "name": "python"
    }
  },
  "cells": [
    {
      "cell_type": "markdown",
      "metadata": {
        "id": "view-in-github",
        "colab_type": "text"
      },
      "source": [
        "<a href=\"https://colab.research.google.com/github/ghassenov/NLP_Basics/blob/main/Tokenization.ipynb\" target=\"_parent\"><img src=\"https://colab.research.google.com/assets/colab-badge.svg\" alt=\"Open In Colab\"/></a>"
      ]
    },
    {
      "cell_type": "markdown",
      "source": [
        "Tokenization\n",
        "* Sentence Tokenization splits a paragraph into individual sentences (e.g., \"NLP is powerful. It helps computers understand text.\" → [\"NLP is powerful.\", \"It helps computers understand text.\"]). Tools like nltk.sent_tokenize() or spaCy’s pipeline detect sentence boundaries using punctuation and context.\n",
        "\n",
        "* Word Tokenization breaks text into words/tokens (e.g., \"Don't stop!\" → [\"Do\", \"n't\", \"stop\", \"!\"] or [\"Don't\", \"stop\", \"!\"], depending on the tokenizer). Libraries like NLTK (word_tokenize), spaCy, or regex handle contractions, punctuation, and hyphenated words differently."
      ],
      "metadata": {
        "id": "gBuJy4I-sjuT"
      }
    },
    {
      "cell_type": "code",
      "execution_count": 9,
      "metadata": {
        "colab": {
          "base_uri": "https://localhost:8080/"
        },
        "id": "m1Marx7Xqor_",
        "outputId": "7fcbbf1d-67b5-4e25-d449-2709eb84afd3"
      },
      "outputs": [
        {
          "output_type": "execute_result",
          "data": {
            "text/plain": [
              "True"
            ]
          },
          "metadata": {},
          "execution_count": 9
        }
      ],
      "source": [
        "import nltk\n",
        "nltk.download('punkt_tab',quiet=True)"
      ]
    },
    {
      "cell_type": "code",
      "source": [
        "from nltk.tokenize import word_tokenize,sent_tokenize"
      ],
      "metadata": {
        "id": "z5dVIDuyqy97"
      },
      "execution_count": 10,
      "outputs": []
    },
    {
      "cell_type": "code",
      "source": [
        "text = 'hello, my name is ghassenov. The sky is blue'\n",
        "words = word_tokenize(text)\n",
        "words\n"
      ],
      "metadata": {
        "colab": {
          "base_uri": "https://localhost:8080/"
        },
        "id": "vLhniECCq2bC",
        "outputId": "71d50c26-f0b7-4e48-8dad-4ddd8f7c3e94"
      },
      "execution_count": 11,
      "outputs": [
        {
          "output_type": "execute_result",
          "data": {
            "text/plain": [
              "['hello',\n",
              " ',',\n",
              " 'my',\n",
              " 'name',\n",
              " 'is',\n",
              " 'ghassenov',\n",
              " '.',\n",
              " 'The',\n",
              " 'sky',\n",
              " 'is',\n",
              " 'blue']"
            ]
          },
          "metadata": {},
          "execution_count": 11
        }
      ]
    },
    {
      "cell_type": "code",
      "source": [
        "sentences = sent_tokenize(text)\n",
        "sentences"
      ],
      "metadata": {
        "colab": {
          "base_uri": "https://localhost:8080/"
        },
        "id": "XsnOy-0trOek",
        "outputId": "6e9e3d1d-7588-4299-de33-4f79f57cc457"
      },
      "execution_count": 12,
      "outputs": [
        {
          "output_type": "execute_result",
          "data": {
            "text/plain": [
              "['hello, my name is ghassenov.', 'The sky is blue']"
            ]
          },
          "metadata": {},
          "execution_count": 12
        }
      ]
    }
  ]
}