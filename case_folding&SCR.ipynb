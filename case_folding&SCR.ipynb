{
  "nbformat": 4,
  "nbformat_minor": 0,
  "metadata": {
    "colab": {
      "provenance": [],
      "authorship_tag": "ABX9TyO7Jdrn5XZaDeX+pGxoBkr5",
      "include_colab_link": true
    },
    "kernelspec": {
      "name": "python3",
      "display_name": "Python 3"
    },
    "language_info": {
      "name": "python"
    }
  },
  "cells": [
    {
      "cell_type": "markdown",
      "metadata": {
        "id": "view-in-github",
        "colab_type": "text"
      },
      "source": [
        "<a href=\"https://colab.research.google.com/github/ghassenov/NLP_Basics/blob/main/case_folding%26SCR.ipynb\" target=\"_parent\"><img src=\"https://colab.research.google.com/assets/colab-badge.svg\" alt=\"Open In Colab\"/></a>"
      ]
    },
    {
      "cell_type": "markdown",
      "source": [
        "Case Folding\n",
        "* Case folding is a text normalization technique in Natural Language Processing (NLP) where all characters in a text are converted to a single case (usually lowercase).\n",
        "* Reduces Vocabulary Size (words like Apple, APPLE and apple are treated as the same token)\n",
        "* Improves Consistency in Text Processing (Ensures that algorithms do not treat uppercase and lowercase versions of the same word as different entities)\n",
        "* Helps in Better Feature Extraction"
      ],
      "metadata": {
        "id": "vS-X32i7hcvG"
      }
    },
    {
      "cell_type": "code",
      "execution_count": null,
      "metadata": {
        "colab": {
          "base_uri": "https://localhost:8080/",
          "height": 36
        },
        "id": "NxmpoqCJgmDb",
        "outputId": "47a8d87f-0a8c-4cea-bb83-89883cec742f"
      },
      "outputs": [
        {
          "output_type": "execute_result",
          "data": {
            "text/plain": [
              "'Hello, And Welcome'"
            ],
            "application/vnd.google.colaboratory.intrinsic+json": {
              "type": "string"
            }
          },
          "metadata": {},
          "execution_count": 1
        }
      ],
      "source": [
        "text = 'Hello, And Welcome'\n",
        "text"
      ]
    },
    {
      "cell_type": "code",
      "source": [
        "x = text.casefold()\n",
        "x"
      ],
      "metadata": {
        "colab": {
          "base_uri": "https://localhost:8080/",
          "height": 36
        },
        "id": "bCnd5jKxhHdU",
        "outputId": "f6871e29-2dd6-4be5-b5f4-f04a11e77e7e"
      },
      "execution_count": null,
      "outputs": [
        {
          "output_type": "execute_result",
          "data": {
            "text/plain": [
              "'hello, and welcome'"
            ],
            "application/vnd.google.colaboratory.intrinsic+json": {
              "type": "string"
            }
          },
          "metadata": {},
          "execution_count": 2
        }
      ]
    },
    {
      "cell_type": "code",
      "source": [
        "y = text.lower()\n",
        "y"
      ],
      "metadata": {
        "colab": {
          "base_uri": "https://localhost:8080/",
          "height": 36
        },
        "id": "u9V4tJRNhKlr",
        "outputId": "7bdedea8-b276-480c-f34f-1e35e7142d48"
      },
      "execution_count": null,
      "outputs": [
        {
          "output_type": "execute_result",
          "data": {
            "text/plain": [
              "'hello, and welcome'"
            ],
            "application/vnd.google.colaboratory.intrinsic+json": {
              "type": "string"
            }
          },
          "metadata": {},
          "execution_count": 3
        }
      ]
    },
    {
      "cell_type": "markdown",
      "source": [
        "Special Character Removal\n",
        "* Special character removal is a text preprocessing step where non-alphanumeric symbols (e.g., ! @ # $ % ^ & * ( )), punctuation marks (e.g., .,;:?!), and other irrelevant characters are stripped from the text.\n",
        "* Reduces Noise in Data\n",
        "* Simplifies Tokenization\n",
        "* Improves Model Efficiency"
      ],
      "metadata": {
        "id": "NxK7QU4Zithy"
      }
    },
    {
      "cell_type": "code",
      "source": [
        "import re"
      ],
      "metadata": {
        "id": "-Ob_aGYYkBH7"
      },
      "execution_count": null,
      "outputs": []
    },
    {
      "cell_type": "code",
      "source": [
        "# input string\n",
        "input_str = 'hello how@ are$ you!!'\n",
        "# using regular expressions to remove special characters\n",
        "clean_str = re.sub(r\"[^a-zA-Z0-9\\s]\",\"\",input_str)"
      ],
      "metadata": {
        "id": "bDEM7JZekGsI"
      },
      "execution_count": null,
      "outputs": []
    },
    {
      "cell_type": "code",
      "source": [
        "clean_str"
      ],
      "metadata": {
        "colab": {
          "base_uri": "https://localhost:8080/",
          "height": 36
        },
        "id": "mUv2fkJikjPJ",
        "outputId": "f42b75e2-9638-443d-fae7-e33c7141aa8a"
      },
      "execution_count": null,
      "outputs": [
        {
          "output_type": "execute_result",
          "data": {
            "text/plain": [
              "'hello how are you'"
            ],
            "application/vnd.google.colaboratory.intrinsic+json": {
              "type": "string"
            }
          },
          "metadata": {},
          "execution_count": 6
        }
      ]
    },
    {
      "cell_type": "markdown",
      "source": [
        "* re.sub() is used to replace matched patterns in the string\n",
        "* r\"[^a-zA-Z0-9\\s]\" : the regex pattern to match\n",
        "* r denotes a raw string(to avoid escaping backslashes)\n",
        "* [^..] is a negated character class(matches any character not listed inside\n",
        "* a-zA-Z0-9 : matches alphanumeric characters (letters and digits)\n",
        "* \\s matches whitespace(spaces,tabs,newlines)\n",
        "\n",
        "=> Match any character that is not alphanumeric or whitespace\n",
        "\n",
        "* \"\" : replacement string (empty,meaning matched characters are deleted)\n",
        "* input_str : the input string to process\n"
      ],
      "metadata": {
        "id": "aovwZCYWkup7"
      }
    },
    {
      "cell_type": "markdown",
      "source": [
        "## libraries in the field of NLP\n",
        "Spacy\n",
        "* Natural language processing library in Python that can be used to tokenize and process textual data\n",
        "\n",
        "NLTK"
      ],
      "metadata": {
        "id": "uW4usP9DmNYU"
      }
    },
    {
      "cell_type": "code",
      "source": [
        "import spacy"
      ],
      "metadata": {
        "id": "rr52tW8PkkP4"
      },
      "execution_count": null,
      "outputs": []
    },
    {
      "cell_type": "code",
      "source": [
        "#load the spacy model\n",
        "nlp = spacy.load('en_core_web_sm')"
      ],
      "metadata": {
        "id": "NHjwM3kDmkup"
      },
      "execution_count": null,
      "outputs": []
    },
    {
      "cell_type": "markdown",
      "source": [
        "this loads spacy's pre-trained English language model which provides:\n",
        "* Tokenization rules\n",
        "* Linguistic annotations"
      ],
      "metadata": {
        "id": "qc4ZKllbpBnj"
      }
    },
    {
      "cell_type": "code",
      "source": [
        "#input string\n",
        "input_str = 'hello how@ are$ you!!'"
      ],
      "metadata": {
        "id": "YKYt1L6rm0-j"
      },
      "execution_count": null,
      "outputs": []
    },
    {
      "cell_type": "code",
      "source": [
        "# function to clean the string\n",
        "def clean_text(text):\n",
        "  cleaned_text = ''.join([char for char in text if char.isalpha() or char.isspace()])\n",
        "  doc = nlp(cleaned_text)\n",
        "  return ' '.join(token.text for token in doc)"
      ],
      "metadata": {
        "id": "tZutVNtSm7nX"
      },
      "execution_count": null,
      "outputs": []
    },
    {
      "cell_type": "markdown",
      "source": [
        "Purpose of the function:\n",
        "* removes all non alphabetic characters (except spaces) from the input string.\n",
        "* char.isalpha() keeps only alphabetic characters (a-z,A-Z)\n",
        "* char.isspace() preserves whitespaces\n",
        "* ''.join(../ ) combines the filtered characters back into a string\n",
        "\n",
        "* doc = nlp(cleaned_text) : processes the cleaned string using spacy's nlp pipeline. (tokenizes the text into words/punctuation and adds linguistic annotations)\n",
        "\n",
        "* return ' '.join(token.text for token in doc) : Reconstructs the processed text by joining spaCy tokens with spaces.\n",
        "* token.text: gets the text of each token\n",
        "* ' '.join(token.text for token in doc) combines tokens into a single string separated by spaces."
      ],
      "metadata": {
        "id": "nZh_Ijg0o9T7"
      }
    },
    {
      "cell_type": "code",
      "source": [
        "# getting the final output\n",
        "clean_str = clean_text(input_str)\n",
        "clean_str"
      ],
      "metadata": {
        "colab": {
          "base_uri": "https://localhost:8080/",
          "height": 36
        },
        "id": "tvopSu5qnhx7",
        "outputId": "f5256cce-50a2-404b-9f89-3a13215fbbd2"
      },
      "execution_count": null,
      "outputs": [
        {
          "output_type": "execute_result",
          "data": {
            "text/plain": [
              "'hello how are you'"
            ],
            "application/vnd.google.colaboratory.intrinsic+json": {
              "type": "string"
            }
          },
          "metadata": {},
          "execution_count": 24
        }
      ]
    },
    {
      "cell_type": "code",
      "source": [
        "import nltk\n",
        "nltk.download('punkt_tab',quiet= True)\n",
        "input_str = 'hello how$$ are# you!!'"
      ],
      "metadata": {
        "id": "n_8OKrWp8DnC"
      },
      "execution_count": 33,
      "outputs": []
    },
    {
      "cell_type": "code",
      "source": [
        "# Tokenization\n",
        "tokens = nltk.word_tokenize(input_str)\n",
        "tokens"
      ],
      "metadata": {
        "colab": {
          "base_uri": "https://localhost:8080/"
        },
        "id": "98SoAvL-8Py9",
        "outputId": "8289dc67-9576-4bcc-e64e-38201498b9ad"
      },
      "execution_count": 34,
      "outputs": [
        {
          "output_type": "execute_result",
          "data": {
            "text/plain": [
              "['hello', 'how', '$', '$', 'are', '#', 'you', '!', '!']"
            ]
          },
          "metadata": {},
          "execution_count": 34
        }
      ]
    },
    {
      "cell_type": "code",
      "source": [
        "# remove special characters\n",
        "clear_tokens = [token for token in tokens if token.isalnum()]\n",
        "clear_tokens"
      ],
      "metadata": {
        "colab": {
          "base_uri": "https://localhost:8080/"
        },
        "id": "bq3dIl0x8Y6T",
        "outputId": "ce273fbe-ffe3-4e53-be3a-3b95bef7736b"
      },
      "execution_count": 36,
      "outputs": [
        {
          "output_type": "execute_result",
          "data": {
            "text/plain": [
              "['hello', 'how', 'are', 'you']"
            ]
          },
          "metadata": {},
          "execution_count": 36
        }
      ]
    },
    {
      "cell_type": "code",
      "source": [
        "# final output string\n",
        "clear_str = ' '.join(clear_tokens)\n",
        "clear_str"
      ],
      "metadata": {
        "colab": {
          "base_uri": "https://localhost:8080/",
          "height": 36
        },
        "id": "3PLkomUp9leo",
        "outputId": "31b3e9c1-8eaf-4736-ce5c-e744e0655dc9"
      },
      "execution_count": 38,
      "outputs": [
        {
          "output_type": "execute_result",
          "data": {
            "text/plain": [
              "'hello how are you'"
            ],
            "application/vnd.google.colaboratory.intrinsic+json": {
              "type": "string"
            }
          },
          "metadata": {},
          "execution_count": 38
        }
      ]
    }
  ]
}