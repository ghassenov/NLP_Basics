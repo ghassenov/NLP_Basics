{
  "nbformat": 4,
  "nbformat_minor": 0,
  "metadata": {
    "colab": {
      "provenance": [],
      "authorship_tag": "ABX9TyM1kH3YyX/8w5yuHj3EsTVk",
      "include_colab_link": true
    },
    "kernelspec": {
      "name": "python3",
      "display_name": "Python 3"
    },
    "language_info": {
      "name": "python"
    }
  },
  "cells": [
    {
      "cell_type": "markdown",
      "metadata": {
        "id": "view-in-github",
        "colab_type": "text"
      },
      "source": [
        "<a href=\"https://colab.research.google.com/github/ghassenov/NLP_Basics/blob/main/Handling_Contractions.ipynb\" target=\"_parent\"><img src=\"https://colab.research.google.com/assets/colab-badge.svg\" alt=\"Open In Colab\"/></a>"
      ]
    },
    {
      "cell_type": "markdown",
      "source": [
        "Handling Contractions in NLP\n",
        "* Contractions (e.g., \"don't\", \"I'm\", \"can't\") are shortened forms of words or phrases.\n",
        "* In NLP, they need special handling\n",
        "* They combine multiple words (e.g., \"don't\" = \"do not\")\n",
        "* Tokenizers may split them incorrectly (e.g., \"don't\" → [\"do\", \"n't\"]).\n",
        "* They carry semantic meaning (e.g., \"can't\" implies negation)."
      ],
      "metadata": {
        "id": "T3kDFxefnt_h"
      }
    },
    {
      "cell_type": "markdown",
      "source": [
        "downloading contractions lib"
      ],
      "metadata": {
        "id": "NMpMVK4VB2Ns"
      }
    },
    {
      "cell_type": "code",
      "execution_count": 1,
      "metadata": {
        "colab": {
          "base_uri": "https://localhost:8080/"
        },
        "id": "r2EiuVG8BtOG",
        "outputId": "c253e5d8-88fe-45d9-80c5-b8c19f7f189a"
      },
      "outputs": [
        {
          "output_type": "stream",
          "name": "stdout",
          "text": [
            "Collecting contractions\n",
            "  Downloading contractions-0.1.73-py2.py3-none-any.whl.metadata (1.2 kB)\n",
            "Collecting textsearch>=0.0.21 (from contractions)\n",
            "  Downloading textsearch-0.0.24-py2.py3-none-any.whl.metadata (1.2 kB)\n",
            "Collecting anyascii (from textsearch>=0.0.21->contractions)\n",
            "  Downloading anyascii-0.3.3-py3-none-any.whl.metadata (1.6 kB)\n",
            "Collecting pyahocorasick (from textsearch>=0.0.21->contractions)\n",
            "  Downloading pyahocorasick-2.2.0-cp311-cp311-manylinux_2_17_x86_64.manylinux2014_x86_64.whl.metadata (13 kB)\n",
            "Downloading contractions-0.1.73-py2.py3-none-any.whl (8.7 kB)\n",
            "Downloading textsearch-0.0.24-py2.py3-none-any.whl (7.6 kB)\n",
            "Downloading anyascii-0.3.3-py3-none-any.whl (345 kB)\n",
            "\u001b[2K   \u001b[90m━━━━━━━━━━━━━━━━━━━━━━━━━━━━━━━━━━━━━━━━\u001b[0m \u001b[32m345.1/345.1 kB\u001b[0m \u001b[31m6.2 MB/s\u001b[0m eta \u001b[36m0:00:00\u001b[0m\n",
            "\u001b[?25hDownloading pyahocorasick-2.2.0-cp311-cp311-manylinux_2_17_x86_64.manylinux2014_x86_64.whl (113 kB)\n",
            "\u001b[2K   \u001b[90m━━━━━━━━━━━━━━━━━━━━━━━━━━━━━━━━━━━━━━━━\u001b[0m \u001b[32m113.9/113.9 kB\u001b[0m \u001b[31m10.2 MB/s\u001b[0m eta \u001b[36m0:00:00\u001b[0m\n",
            "\u001b[?25hInstalling collected packages: pyahocorasick, anyascii, textsearch, contractions\n",
            "Successfully installed anyascii-0.3.3 contractions-0.1.73 pyahocorasick-2.2.0 textsearch-0.0.24\n"
          ]
        }
      ],
      "source": [
        "!pip install contractions"
      ]
    },
    {
      "cell_type": "markdown",
      "source": [
        "importing the lib"
      ],
      "metadata": {
        "id": "-P4jgsTTCEuX"
      }
    },
    {
      "cell_type": "code",
      "source": [
        "import contractions\n",
        "txt = \" I can't believe it's already raining\"\n",
        "expanded_txt = contractions.fix(txt)\n",
        "print(expanded_txt)"
      ],
      "metadata": {
        "colab": {
          "base_uri": "https://localhost:8080/"
        },
        "id": "sI_C3V_oCARC",
        "outputId": "1006d28a-a877-48da-ed62-85f68d751197"
      },
      "execution_count": 2,
      "outputs": [
        {
          "output_type": "stream",
          "name": "stdout",
          "text": [
            " I cannot believe it is already raining\n"
          ]
        }
      ]
    },
    {
      "cell_type": "code",
      "source": [
        "import re\n",
        "def expand_contractions(text):\n",
        "  contractions_pattern = {\n",
        "      r\"(?i)can't\":\"cannot\",\n",
        "      r\"(?i)won't\":\"will not\",\n",
        "      r\"(?i)weren't\":\"were not\",\n",
        "      r\"(?i)I'm\":\"I am\",\n",
        "      r\"(?i)it's\":\"it is\"\n",
        "  }\n",
        "\n",
        "  for contraction,expansion in contractions_pattern.items():\n",
        "    text = re.sub(contraction,expansion,text)\n",
        "  return text\n"
      ],
      "metadata": {
        "id": "PEI03E2NCnwO"
      },
      "execution_count": 6,
      "outputs": []
    },
    {
      "cell_type": "code",
      "source": [
        "txt = \" I can't believe it's already raining\"\n",
        "expanded_str = expand_contractions(txt)\n",
        "expanded_str"
      ],
      "metadata": {
        "colab": {
          "base_uri": "https://localhost:8080/",
          "height": 36
        },
        "id": "1iHrpu5GEw5N",
        "outputId": "a1638faa-d981-4554-8a20-56586ef2726a"
      },
      "execution_count": 8,
      "outputs": [
        {
          "output_type": "execute_result",
          "data": {
            "text/plain": [
              "' I cannot believe it is already raining'"
            ],
            "application/vnd.google.colaboratory.intrinsic+json": {
              "type": "string"
            }
          },
          "metadata": {},
          "execution_count": 8
        }
      ]
    }
  ]
}